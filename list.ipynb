{
 "cells": [
  {
   "cell_type": "code",
   "execution_count": 9,
   "id": "ef615098",
   "metadata": {},
   "outputs": [
    {
     "data": {
      "text/plain": [
       "[4, 3, 2, 1]"
      ]
     },
     "execution_count": 9,
     "metadata": {},
     "output_type": "execute_result"
    }
   ],
   "source": [
    "# Python program to interchange first and last elements in a list\n",
    "x=[1,2,3,4]\n",
    "x[::-1]"
   ]
  },
  {
   "cell_type": "code",
   "execution_count": 1,
   "id": "fe69d908",
   "metadata": {},
   "outputs": [
    {
     "data": {
      "text/plain": [
       "[1, 3, 2, 4]"
      ]
     },
     "execution_count": 1,
     "metadata": {},
     "output_type": "execute_result"
    }
   ],
   "source": [
    "# Python program to swap two elements in a list\n",
    "l=[1,2,3,4]\n",
    "x=l[1]\n",
    "l[1]=l[2]\n",
    "l[2]=x\n",
    "l"
   ]
  },
  {
   "cell_type": "code",
   "execution_count": 16,
   "id": "2d1e8b0c",
   "metadata": {},
   "outputs": [
    {
     "data": {
      "text/plain": [
       "['A', 'C', 'B', 'D']"
      ]
     },
     "execution_count": 16,
     "metadata": {},
     "output_type": "execute_result"
    }
   ],
   "source": [
    "# Swap elements in String list\n",
    "l=\"A B C D\"\n",
    "x=list(x.split(\" \"))\n",
    "n=x[1]\n",
    "x[1]=x[2]\n",
    "x[2]=n\n",
    "x"
   ]
  },
  {
   "cell_type": "code",
   "execution_count": 17,
   "id": "8b9215c5",
   "metadata": {},
   "outputs": [
    {
     "data": {
      "text/plain": [
       "4"
      ]
     },
     "execution_count": 17,
     "metadata": {},
     "output_type": "execute_result"
    }
   ],
   "source": [
    "#  Ways to find length of list\n",
    "len(x)"
   ]
  },
  {
   "cell_type": "code",
   "execution_count": 24,
   "id": "970f7905",
   "metadata": {},
   "outputs": [
    {
     "name": "stdout",
     "output_type": "stream",
     "text": [
      "yo\n"
     ]
    }
   ],
   "source": [
    "# Ways to check if element exists in list\n",
    "if \"A\" in x:\n",
    "    print(\"yo\")"
   ]
  },
  {
   "cell_type": "code",
   "execution_count": 26,
   "id": "752e28e2",
   "metadata": {},
   "outputs": [
    {
     "data": {
      "text/plain": [
       "[]"
      ]
     },
     "execution_count": 26,
     "metadata": {},
     "output_type": "execute_result"
    }
   ],
   "source": [
    "x.clear()\n",
    "x"
   ]
  },
  {
   "cell_type": "code",
   "execution_count": 28,
   "id": "c7f0c172",
   "metadata": {},
   "outputs": [
    {
     "data": {
      "text/plain": [
       "[1, 22, 3, 4]"
      ]
     },
     "execution_count": 28,
     "metadata": {},
     "output_type": "execute_result"
    }
   ],
   "source": [
    "# Cloning or Copying a list\n",
    "\n",
    "x=[1,2,3,4]\n",
    "a=x\n",
    "a[1]=22\n",
    "x"
   ]
  },
  {
   "cell_type": "code",
   "execution_count": 4,
   "id": "e1855654",
   "metadata": {},
   "outputs": [
    {
     "data": {
      "text/plain": [
       "3"
      ]
     },
     "execution_count": 4,
     "metadata": {},
     "output_type": "execute_result"
    }
   ],
   "source": [
    "#Count occurrences of an element in a list\n",
    "x=[1,2,3,4,2,4,3,2]\n",
    "n=0\n",
    "for i in x:\n",
    "    if i==2:\n",
    "        n+=1\n",
    "n"
   ]
  },
  {
   "cell_type": "code",
   "execution_count": 34,
   "id": "fa3b172c",
   "metadata": {},
   "outputs": [
    {
     "name": "stdout",
     "output_type": "stream",
     "text": [
      "30 7.5\n"
     ]
    }
   ],
   "source": [
    "# Python Program to find sum and average of List in Python\n",
    "n=0\n",
    "for i in x:\n",
    "    n+=i\n",
    "a=n/len(x)\n",
    "print(f\"{n} {a}\")"
   ]
  },
  {
   "cell_type": "code",
   "execution_count": 41,
   "id": "89d0cdee",
   "metadata": {},
   "outputs": [
    {
     "name": "stdout",
     "output_type": "stream",
     "text": [
      "22\n"
     ]
    }
   ],
   "source": [
    "#Python program to find largest number in a list\n",
    "x.sort()\n",
    "print(x[-1])"
   ]
  },
  {
   "cell_type": "code",
   "execution_count": 42,
   "id": "16b0cb3c",
   "metadata": {},
   "outputs": [
    {
     "name": "stdout",
     "output_type": "stream",
     "text": [
      "4\n"
     ]
    }
   ],
   "source": [
    "# Python program to find second largest number in a list\n",
    "print(x[-2])"
   ]
  },
  {
   "cell_type": "code",
   "execution_count": 44,
   "id": "5a27e302",
   "metadata": {},
   "outputs": [
    {
     "data": {
      "text/plain": [
       "[2, 4, 6, 8, 10, 12, 14, 16, 18, 20, 22, 24]"
      ]
     },
     "execution_count": 44,
     "metadata": {},
     "output_type": "execute_result"
    }
   ],
   "source": [
    "# Python program to print all even numbers in a range\n",
    "x=[]\n",
    "for i in range(1,25):\n",
    "    if i%2==0:\n",
    "        x.append(i)\n",
    "x"
   ]
  },
  {
   "cell_type": "code",
   "execution_count": 51,
   "id": "79bfaa5e",
   "metadata": {},
   "outputs": [
    {
     "data": {
      "text/plain": [
       "[1, 2, 3, 4, 35, 6, 8, 23, 55]"
      ]
     },
     "execution_count": 51,
     "metadata": {},
     "output_type": "execute_result"
    }
   ],
   "source": [
    "# Remove multiple elements from a list in Python\n",
    "\n",
    "l=[1,2,3,4,1,35,6,8,3,55,23,3,2]\n",
    "l=set(l)\n",
    "l=list(l)\n",
    "l"
   ]
  },
  {
   "cell_type": "code",
   "execution_count": 54,
   "id": "75f634e2",
   "metadata": {},
   "outputs": [
    {
     "data": {
      "text/plain": [
       "[1, 3, (1, 2, 3), 4, 5]"
      ]
     },
     "execution_count": 54,
     "metadata": {},
     "output_type": "execute_result"
    }
   ],
   "source": [
    "# Remove empty tuples from a list\n",
    "x=[1,3,(1,2,3),4,(),5]\n",
    "for i in x:\n",
    "    if i==():\n",
    "        x.remove(i)\n",
    "x"
   ]
  },
  {
   "cell_type": "code",
   "execution_count": 58,
   "id": "897236bd",
   "metadata": {},
   "outputs": [
    {
     "data": {
      "text/plain": [
       "{1, 2, 3, 4, 5, 6}"
      ]
     },
     "execution_count": 58,
     "metadata": {},
     "output_type": "execute_result"
    }
   ],
   "source": [
    "#  Program to print duplicates from a list of integers\n",
    "a=[]\n",
    "x=[1,3,2,3,4,5,6,2,3,1]\n",
    "for i in x:\n",
    "    for j in x:\n",
    "        if i==j:\n",
    "            a.append(i)\n",
    "set(a)"
   ]
  },
  {
   "cell_type": "code",
   "execution_count": 6,
   "id": "ce01ab72",
   "metadata": {},
   "outputs": [
    {
     "name": "stdout",
     "output_type": "stream",
     "text": [
      "4\n",
      "5\n",
      "6\n"
     ]
    }
   ],
   "source": [
    "# Python | Uncommon elements in Lists of List\n",
    "\n",
    "s={}\n",
    "x=[1,3,2,3,4,5,6,2,3,1]\n",
    "for i in x:\n",
    "    if i in s:\n",
    "        s[i]+=1\n",
    "    else:\n",
    "        s[i]=1\n",
    "for key,value in s.items():\n",
    "    if value<2:\n",
    "        print(key)"
   ]
  },
  {
   "cell_type": "code",
   "execution_count": 33,
   "id": "70304cd7",
   "metadata": {},
   "outputs": [
    {
     "data": {
      "text/plain": [
       "66"
      ]
     },
     "execution_count": 33,
     "metadata": {},
     "output_type": "execute_result"
    }
   ],
   "source": [
    "# Python program to select Random value from list of lists\n",
    "import random\n",
    "x=[[11,22,33],[1,2,3],[44,55,66]]\n",
    "i=random.randint(0,2)\n",
    "j=random.randint(0,2)\n",
    "x[i][j]"
   ]
  },
  {
   "cell_type": "code",
   "execution_count": 35,
   "id": "d3209c2c",
   "metadata": {},
   "outputs": [
    {
     "data": {
      "text/plain": [
       "'abcd'"
      ]
     },
     "execution_count": 35,
     "metadata": {},
     "output_type": "execute_result"
    }
   ],
   "source": [
    "# Convert Character Matrix to single String\n",
    "x=[\"a\",\"b\",\"c\",\"d\"]\n",
    "x=\"\".join(x)\n",
    "x"
   ]
  },
  {
   "cell_type": "code",
   "execution_count": 5,
   "id": "80cf7404",
   "metadata": {},
   "outputs": [
    {
     "data": {
      "text/plain": [
       "['I', 'am', 'hello']"
      ]
     },
     "execution_count": 5,
     "metadata": {},
     "output_type": "execute_result"
    }
   ],
   "source": [
    "# Python – Ways to remove multiple empty spaces from string List\n",
    "x=['I', ' ', ' ', 'am', '         ', 'hello']\n",
    "y=[i for i in x if i.strip()]\n",
    "y"
   ]
  },
  {
   "cell_type": "code",
   "execution_count": 52,
   "id": "1c9f5aee",
   "metadata": {},
   "outputs": [
    {
     "name": "stdout",
     "output_type": "stream",
     "text": [
      "hello i am haha\n"
     ]
    },
    {
     "data": {
      "text/plain": [
       "['i', 'haha']"
      ]
     },
     "execution_count": 52,
     "metadata": {},
     "output_type": "execute_result"
    }
   ],
   "source": [
    "#Python – Remove words containing list characters\n",
    "\n",
    "x=[\"a\",\"d\",\"e\"]\n",
    "\n",
    "#a=[\"I\", \"am\", \"in\", \"such\", \"a\" ,\"good\" ,\"mood\"]\n",
    "\n",
    "a=input()\n",
    "\n",
    "a=list(a.split(\" \"))\n",
    "n=[]\n",
    "\n",
    "for i in a:\n",
    "    y=i\n",
    "    for j in i:\n",
    "        for k in x:\n",
    "            if k==j:\n",
    "                a.remove(i)\n",
    "a"
   ]
  },
  {
   "cell_type": "code",
   "execution_count": 53,
   "id": "75bad069",
   "metadata": {},
   "outputs": [
    {
     "name": "stdout",
     "output_type": "stream",
     "text": [
      "hello i am haha\n"
     ]
    },
    {
     "data": {
      "text/plain": [
       "['hello i ', ' haha']"
      ]
     },
     "execution_count": 53,
     "metadata": {},
     "output_type": "execute_result"
    }
   ],
   "source": [
    "# Python – Split String of list on K character\n",
    "x=\"am\"\n",
    "\n",
    "a=input()\n",
    "\n",
    "a=list(a.split(x))\n",
    "\n",
    "a"
   ]
  },
  {
   "cell_type": "code",
   "execution_count": 67,
   "id": "b5afbe43",
   "metadata": {},
   "outputs": [
    {
     "name": "stdout",
     "output_type": "stream",
     "text": [
      "1\n",
      "3\n",
      "2\n"
     ]
    }
   ],
   "source": [
    "# Python – Extract elements with Frequency greater than K\n",
    "\n",
    "s={}\n",
    "x=[1,3,2,3,4,5,6,2,3,1]\n",
    "\n",
    "k=1\n",
    "\n",
    "for i in x:\n",
    "    if i in s:\n",
    "        s[i]+=1\n",
    "    else:\n",
    "        s[i]=1\n",
    "\n",
    "for key, value in s.items():\n",
    "    if value > k:\n",
    "        print(key)"
   ]
  },
  {
   "cell_type": "code",
   "execution_count": 68,
   "id": "08dcca1e",
   "metadata": {},
   "outputs": [
    {
     "name": "stdout",
     "output_type": "stream",
     "text": [
      "8\n"
     ]
    }
   ],
   "source": [
    "# Python program to find the Strongest Neighbour\n",
    "\n",
    "x=[1,3,4,5,8,2,11,3]\n",
    "\n",
    "n=3\n",
    "\n",
    "if x[n-1]>x[n+1]:\n",
    "    print(x[n-1])\n",
    "else:\n",
    "    print(x[n+1])"
   ]
  },
  {
   "cell_type": "code",
   "execution_count": 76,
   "id": "0ebc31bc",
   "metadata": {},
   "outputs": [
    {
     "name": "stdout",
     "output_type": "stream",
     "text": [
      "321\n",
      "312\n",
      "231\n",
      "213\n",
      "132\n",
      "123\n"
     ]
    }
   ],
   "source": [
    "# Python Program to print all Possible Combinations from the three Digits\n",
    "\n",
    "import itertools\n",
    "x=[3,2,1]\n",
    "\n",
    "x=list(itertools.permutations(x))\n",
    "a=\"\"\n",
    "for i in x:\n",
    "    a=\"\".join(str(n) for n in i)\n",
    "    print(a)\n"
   ]
  },
  {
   "cell_type": "code",
   "execution_count": 89,
   "id": "8bd0086e",
   "metadata": {},
   "outputs": [
    {
     "name": "stdout",
     "output_type": "stream",
     "text": [
      "312\n",
      "132\n"
     ]
    }
   ],
   "source": [
    "# Python program to find all the Combinations in the list with the given condition\n",
    "import itertools\n",
    "x=[3,2,1]\n",
    "\n",
    "x=list(itertools.permutations(x,3))\n",
    "a=\"\"\n",
    "for i in x:\n",
    "    a=\"\".join(str(n) for n in i)\n",
    "    if int(a)%2==0:\n",
    "        print(a)"
   ]
  },
  {
   "cell_type": "code",
   "execution_count": 93,
   "id": "37715058",
   "metadata": {},
   "outputs": [
    {
     "name": "stdout",
     "output_type": "stream",
     "text": [
      "12\n",
      "13\n",
      "15\n",
      "22\n",
      "23\n",
      "25\n",
      "32\n",
      "33\n",
      "35\n"
     ]
    }
   ],
   "source": [
    "# Python program to get all unique combinations of two Lists\n",
    "x=[1,2,3]\n",
    "y=[2,3,5]\n",
    "x=list(itertools.product(x,y))\n",
    "\n",
    "a=\"\"\n",
    "for i in x:\n",
    "    a=\"\".join(str(n) for n in i)\n",
    "    print(a)"
   ]
  }
 ],
 "metadata": {
  "kernelspec": {
   "display_name": "Python 3 (ipykernel)",
   "language": "python",
   "name": "python3"
  },
  "language_info": {
   "codemirror_mode": {
    "name": "ipython",
    "version": 3
   },
   "file_extension": ".py",
   "mimetype": "text/x-python",
   "name": "python",
   "nbconvert_exporter": "python",
   "pygments_lexer": "ipython3",
   "version": "3.10.4"
  }
 },
 "nbformat": 4,
 "nbformat_minor": 5
}
