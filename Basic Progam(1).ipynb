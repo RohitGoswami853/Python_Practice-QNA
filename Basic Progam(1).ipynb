{
 "cells": [
  {
   "cell_type": "code",
   "execution_count": 1,
   "id": "5e58f755",
   "metadata": {},
   "outputs": [
    {
     "name": "stdout",
     "output_type": "stream",
     "text": [
      "5\n",
      "ODD\n"
     ]
    }
   ],
   "source": [
    "# 1.Write a program to print the given number is odd or even.\n",
    "x=input()\n",
    "if int(x)%2!=0:\n",
    "    print(\"ODD\")\n",
    "else:\n",
    "    print(\"EVEN\")"
   ]
  },
  {
   "cell_type": "code",
   "execution_count": 2,
   "id": "8593f15d",
   "metadata": {},
   "outputs": [
    {
     "name": "stdout",
     "output_type": "stream",
     "text": [
      "5\n",
      "+ve\n"
     ]
    }
   ],
   "source": [
    "# 2.Write a program to find the given number is positive or negative.\n",
    "\n",
    "x=input()\n",
    "if int(x)>=0:\n",
    "    print(\"+ve\")\n",
    "else:\n",
    "    print(\"-ve\")"
   ]
  },
  {
   "cell_type": "code",
   "execution_count": 3,
   "id": "3b26e85b",
   "metadata": {},
   "outputs": [
    {
     "name": "stdout",
     "output_type": "stream",
     "text": [
      "684\n",
      "4654\n",
      "5338\n"
     ]
    }
   ],
   "source": [
    "#3.Write a program to find the sum of two numbers.\n",
    "x=input()\n",
    "y=input()\n",
    "print(int(x)+int(y))"
   ]
  },
  {
   "cell_type": "code",
   "execution_count": 4,
   "id": "50216a8f",
   "metadata": {},
   "outputs": [
    {
     "name": "stdout",
     "output_type": "stream",
     "text": [
      "6565\n",
      "NO\n",
      "[1, 5, 13, 65, 101, 505, 1313]\n"
     ]
    }
   ],
   "source": [
    "#4.Write a program to find if the given number is prime or not.\n",
    "x=input()\n",
    "a=[]\n",
    "for i in range(1,int(x)):\n",
    "    if int(x)%i==0:\n",
    "        a.append(i)\n",
    "if len(a)>1:\n",
    "    print(\"NO\")\n",
    "    print(a)\n",
    "else:\n",
    "    print(\"Prime\")"
   ]
  },
  {
   "cell_type": "code",
   "execution_count": 5,
   "id": "5fc752d4",
   "metadata": {},
   "outputs": [
    {
     "name": "stdout",
     "output_type": "stream",
     "text": [
      "875\n",
      "NO\n"
     ]
    }
   ],
   "source": [
    "# 5.Write a program to check if the given number is palindrome or not.\n",
    "x=input()\n",
    "if x[::-1]==x:\n",
    "    print(\"YES\")\n",
    "else:\n",
    "    print(\"NO\")"
   ]
  },
  {
   "cell_type": "code",
   "execution_count": 6,
   "id": "bc3dc23e",
   "metadata": {},
   "outputs": [
    {
     "name": "stdout",
     "output_type": "stream",
     "text": [
      "555\n",
      "NO\n"
     ]
    }
   ],
   "source": [
    "# 6.Write a program to check if the given number is Armstrong or not.\n",
    "x=input()\n",
    "a=0\n",
    "for i in range(0,len(x)):\n",
    "    a+=int(x[i])**len(x)\n",
    "\n",
    "if a==int(x):\n",
    "    print(\"YES\")\n",
    "else:\n",
    "    print(\"NO\")"
   ]
  },
  {
   "cell_type": "code",
   "execution_count": 7,
   "id": "2a60b9f2",
   "metadata": {},
   "outputs": [
    {
     "name": "stdout",
     "output_type": "stream",
     "text": [
      "44764\n",
      "651646\n",
      "NO\n"
     ]
    }
   ],
   "source": [
    "#7.Write a program to check if the given strings are anagram or not.\n",
    "x=input()\n",
    "y=input()\n",
    "\n",
    "x=set(x)\n",
    "y=set(y)\n",
    "if x==y:\n",
    "    print(\"YES\")\n",
    "else:\n",
    "    print(\"NO\")"
   ]
  },
  {
   "cell_type": "code",
   "execution_count": 2,
   "id": "f66ccb65",
   "metadata": {},
   "outputs": [
    {
     "name": "stdout",
     "output_type": "stream",
     "text": [
      "554\n"
     ]
    },
    {
     "ename": "ValueError",
     "evalue": "VALUE TOO BIG hue hue hue",
     "output_type": "error",
     "traceback": [
      "\u001b[1;31m---------------------------------------------------------------------------\u001b[0m",
      "\u001b[1;31mValueError\u001b[0m                                Traceback (most recent call last)",
      "Cell \u001b[1;32mIn [2], line 6\u001b[0m\n\u001b[0;32m      3\u001b[0m x\u001b[38;5;241m=\u001b[39m\u001b[38;5;28minput\u001b[39m()\n\u001b[0;32m      5\u001b[0m \u001b[38;5;28;01mif\u001b[39;00m \u001b[38;5;28mlen\u001b[39m(x)\u001b[38;5;241m>\u001b[39m\u001b[38;5;241m2\u001b[39m:\n\u001b[1;32m----> 6\u001b[0m     \u001b[38;5;28;01mraise\u001b[39;00m \u001b[38;5;167;01mValueError\u001b[39;00m(\u001b[38;5;124m\"\u001b[39m\u001b[38;5;124mVALUE TOO BIG hue hue hue\u001b[39m\u001b[38;5;124m\"\u001b[39m)\n\u001b[0;32m      7\u001b[0m \u001b[38;5;28;01melif\u001b[39;00m \u001b[38;5;28mint\u001b[39m(x[\u001b[38;5;241m0\u001b[39m])\u001b[38;5;241m>\u001b[39m\u001b[38;5;28mint\u001b[39m(x[\u001b[38;5;241m1\u001b[39m]):\n\u001b[0;32m      8\u001b[0m     \u001b[38;5;28mprint\u001b[39m(x[\u001b[38;5;241m0\u001b[39m]) \n",
      "\u001b[1;31mValueError\u001b[0m: VALUE TOO BIG hue hue hue"
     ]
    }
   ],
   "source": [
    "# 8.Write a program to find a maximum of two numbers.\n",
    "\n",
    "x=input()\n",
    "\n",
    "if len(x)>2:\n",
    "    raise ValueError(\"VALUE TOO BIG hue hue hue\")\n",
    "elif int(x[0])>int(x[1]):\n",
    "    print(x[0]) \n",
    "else:\n",
    "    print(x[1])"
   ]
  },
  {
   "cell_type": "code",
   "execution_count": 1,
   "id": "93adf15a",
   "metadata": {},
   "outputs": [
    {
     "name": "stdout",
     "output_type": "stream",
     "text": [
      "56\n",
      "5\n"
     ]
    }
   ],
   "source": [
    "# 9.Write a program to find a minimum of two numbers.\n",
    "\n",
    "x=input()\n",
    "\n",
    "if len(x)>2:\n",
    "    raise ValueError(\"VALUE TOO BIG\")\n",
    "elif int(x[0])>int(x[1]):\n",
    "    print(x[1]) \n",
    "else:\n",
    "    print(x[0])"
   ]
  },
  {
   "cell_type": "code",
   "execution_count": 4,
   "id": "2f4311fc",
   "metadata": {},
   "outputs": [
    {
     "name": "stdout",
     "output_type": "stream",
     "text": [
      "720\n"
     ]
    }
   ],
   "source": [
    "# 12.Write a program to find a factorial of a number.\n",
    "x=6\n",
    "n=1\n",
    "for i in range(1,x+1):\n",
    "    n*=i\n",
    "print(n)\n",
    "    "
   ]
  },
  {
   "cell_type": "code",
   "execution_count": 1,
   "id": "5dcf6091",
   "metadata": {},
   "outputs": [
    {
     "data": {
      "text/plain": [
       "[0, 1, 1, 2, 3, 5, 8, 13, 21]"
      ]
     },
     "execution_count": 1,
     "metadata": {},
     "output_type": "execute_result"
    }
   ],
   "source": [
    "# 13.Write a program to find a fibonacci of a number.\n",
    "n=6\n",
    "x=[0,1]\n",
    "s=0\n",
    "for i in range(0,n+1):\n",
    "    s=x[i]+x[i+1]\n",
    "    x.append(s)\n",
    "\n",
    "x"
   ]
  },
  {
   "cell_type": "code",
   "execution_count": 21,
   "id": "55bc1ab8",
   "metadata": {},
   "outputs": [
    {
     "name": "stdout",
     "output_type": "stream",
     "text": [
      "*\r\n",
      "**\r\n",
      "***\r\n",
      "****\r\n",
      "*****\r\n"
     ]
    }
   ],
   "source": [
    "'''\n",
    "*\n",
    "* *\n",
    "* * *\n",
    "* * * *\n",
    "* * * * *\n",
    "'''\n",
    "\n",
    "for i in range(0,5):\n",
    "    for j in range(0,i+1):\n",
    "        print(\"*\",end=\"\")\n",
    "    print(\"\\r\")"
   ]
  },
  {
   "cell_type": "code",
   "execution_count": 35,
   "id": "00a0bf03",
   "metadata": {},
   "outputs": [
    {
     "name": "stdout",
     "output_type": "stream",
     "text": [
      "      * \r\n",
      "     * * \r\n",
      "    * * * \r\n",
      "   * * * * \r\n",
      "  * * * * * \r\n",
      " * * * * * * \r\n"
     ]
    }
   ],
   "source": [
    "'''\n",
    "     *\n",
    "    * *\n",
    "   * * *\n",
    "  * * * *\n",
    " * * * * *\n",
    "'''\n",
    "def pyramid(n):\n",
    "    x=n\n",
    "    for i in range(0,n):\n",
    "        for j in range(0,x):\n",
    "            print(\" \",end=\"\")\n",
    "        for k in range(0,i+1):\n",
    "            print(\"* \",end=\"\")\n",
    "        print(\"\\r\")\n",
    "        x-=1\n",
    "\n",
    "pyramid(6)\n"
   ]
  },
  {
   "cell_type": "code",
   "execution_count": 42,
   "id": "d4f48bdf",
   "metadata": {},
   "outputs": [
    {
     "name": "stdout",
     "output_type": "stream",
     "text": [
      "1 \r\n",
      "1 2 \r\n",
      "1 2 3 \r\n",
      "1 2 3 4 \r\n",
      "1 2 3 4 5 \r\n"
     ]
    }
   ],
   "source": [
    "'''\n",
    "1\n",
    "1 2\n",
    "1 2 3\n",
    "1 2 3 4\n",
    "1 2 3 4 5\n",
    "'''\n",
    "\n",
    "for i in range(1,6):\n",
    "    for j in range(1,i+1):\n",
    "        print(j,end=\" \")\n",
    "    print(\"\\r\")"
   ]
  },
  {
   "cell_type": "code",
   "execution_count": 72,
   "id": "bdc5f196",
   "metadata": {},
   "outputs": [
    {
     "name": "stdout",
     "output_type": "stream",
     "text": [
      "1 \r\n",
      "2 3 \r\n",
      "4 5 6 \r\n",
      "7 8 9 10 \r\n",
      "11 12 13 14 15 \r\n"
     ]
    }
   ],
   "source": [
    "'''\n",
    "\n",
    "1\n",
    "2  3\n",
    "4  5  6\n",
    "7  8  9  10\n",
    "11 12 13 14 15\n",
    "'''\n",
    "\n",
    "def pattern(n):\n",
    "    x=1\n",
    "    for i in range(1,n+1):\n",
    "        for j in range(1,i+1):\n",
    "            print(x,end=\" \")\n",
    "            x+=1\n",
    "        print(\"\\r\")\n",
    "\n",
    "pattern(5)"
   ]
  },
  {
   "cell_type": "code",
   "execution_count": 76,
   "id": "080b49cd",
   "metadata": {},
   "outputs": [
    {
     "name": "stdout",
     "output_type": "stream",
     "text": [
      "A \r\n",
      "B B \r\n",
      "C C C \r\n",
      "D D D D \r\n",
      "E E E E E \r\n",
      "F F F F F F \r\n"
     ]
    }
   ],
   "source": [
    "'''\n",
    "A\n",
    "B B\n",
    "C C C\n",
    "D D D D\n",
    "E E E E E\n",
    "'''\n",
    "l=\"A B C D E F G H I J K L\"\n",
    "l=list(l.split(' '))\n",
    "\n",
    "for i in range(0,6):\n",
    "    for j in range(0,i+1):\n",
    "        print(l[i],end=\" \")\n",
    "    print(\"\\r\")"
   ]
  },
  {
   "cell_type": "code",
   "execution_count": 78,
   "id": "51fb975d",
   "metadata": {},
   "outputs": [
    {
     "name": "stdout",
     "output_type": "stream",
     "text": [
      "A \r\n",
      "B C \r\n",
      "D E F \r\n",
      "G H I J \r\n",
      "K L M N O \r\n"
     ]
    }
   ],
   "source": [
    "'''\n",
    "A\n",
    "B C\n",
    "D E F\n",
    "G H I J\n",
    "K L M N O\n",
    "'''\n",
    "\n",
    "l=\"A B C D E F G H I J K L M N O P Q R S T U V W X Y Z\"\n",
    "l=list(l.split(' '))\n",
    "\n",
    "x=0\n",
    "for i in range(1,6):\n",
    "    for j in range(1,i+1):\n",
    "        print(l[x],end=\" \")\n",
    "        x+=1\n",
    "    print(\"\\r\")"
   ]
  }
 ],
 "metadata": {
  "kernelspec": {
   "display_name": "Python 3 (ipykernel)",
   "language": "python",
   "name": "python3"
  },
  "language_info": {
   "codemirror_mode": {
    "name": "ipython",
    "version": 3
   },
   "file_extension": ".py",
   "mimetype": "text/x-python",
   "name": "python",
   "nbconvert_exporter": "python",
   "pygments_lexer": "ipython3",
   "version": "3.10.4"
  }
 },
 "nbformat": 4,
 "nbformat_minor": 5
}
